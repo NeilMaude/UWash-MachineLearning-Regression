{
 "cells": [
  {
   "cell_type": "markdown",
   "metadata": {},
   "source": [
    "# Regression Week 5: Feature Selection and LASSO (Interpretation)"
   ]
  },
  {
   "cell_type": "markdown",
   "metadata": {},
   "source": [
    "In this notebook, you will use LASSO to select features, building on a pre-implemented solver for LASSO (using GraphLab Create, though you can use other solvers). You will:\n",
    "* Run LASSO with different L1 penalties.\n",
    "* Choose best L1 penalty using a validation set.\n",
    "* Choose best L1 penalty using a validation set, with additional constraint on the size of subset.\n",
    "\n",
    "In the second notebook, you will implement your own LASSO solver, using coordinate descent. "
   ]
  },
  {
   "cell_type": "markdown",
   "metadata": {},
   "source": [
    "# Fire up graphlab create"
   ]
  },
  {
   "cell_type": "code",
   "execution_count": 2,
   "metadata": {
    "collapsed": false
   },
   "outputs": [],
   "source": [
    "import graphlab"
   ]
  },
  {
   "cell_type": "markdown",
   "metadata": {},
   "source": [
    "# Load in house sales data\n",
    "\n",
    "Dataset is from house sales in King County, the region where the city of Seattle, WA is located."
   ]
  },
  {
   "cell_type": "code",
   "execution_count": 3,
   "metadata": {
    "collapsed": false,
    "scrolled": true
   },
   "outputs": [
    {
     "name": "stderr",
     "output_type": "stream",
     "text": [
      "[INFO] This non-commercial license of GraphLab Create is assigned to neil.maude@gmail.com and will expire on January 29, 2017. For commercial licensing options, visit https://dato.com/buy/.\n",
      "\n",
      "[INFO] Start server at: ipc:///tmp/graphlab_server-1184 - Server binary: C:\\Users\\Demo\\Anaconda2\\envs\\dato-env\\lib\\site-packages\\graphlab\\unity_server.exe - Server log: C:\\Users\\Demo\\AppData\\Local\\Temp\\graphlab_server_1456574048.log.0\n",
      "[INFO] GraphLab Server Version: 1.8.1\n"
     ]
    }
   ],
   "source": [
    "sales = graphlab.SFrame('kc_house_data.gl/')"
   ]
  },
  {
   "cell_type": "markdown",
   "metadata": {},
   "source": [
    "# Create new features"
   ]
  },
  {
   "cell_type": "markdown",
   "metadata": {},
   "source": [
    "As in Week 2, we consider features that are some transformations of inputs."
   ]
  },
  {
   "cell_type": "code",
   "execution_count": 4,
   "metadata": {
    "collapsed": true
   },
   "outputs": [],
   "source": [
    "from math import log, sqrt\n",
    "sales['sqft_living_sqrt'] = sales['sqft_living'].apply(sqrt)\n",
    "sales['sqft_lot_sqrt'] = sales['sqft_lot'].apply(sqrt)\n",
    "sales['bedrooms_square'] = sales['bedrooms']*sales['bedrooms']\n",
    "\n",
    "# In the dataset, 'floors' was defined with type string, \n",
    "# so we'll convert them to float, before creating a new feature.\n",
    "sales['floors'] = sales['floors'].astype(float) \n",
    "sales['floors_square'] = sales['floors']*sales['floors']"
   ]
  },
  {
   "cell_type": "markdown",
   "metadata": {},
   "source": [
    "* Squaring bedrooms will increase the separation between not many bedrooms (e.g. 1) and lots of bedrooms (e.g. 4) since 1^2 = 1 but 4^2 = 16. Consequently this variable will mostly affect houses with many bedrooms.\n",
    "* On the other hand, taking square root of sqft_living will decrease the separation between big house and small house. The owner may not be exactly twice as happy for getting a house that is twice as big."
   ]
  },
  {
   "cell_type": "markdown",
   "metadata": {},
   "source": [
    "# Learn regression weights with L1 penalty"
   ]
  },
  {
   "cell_type": "markdown",
   "metadata": {},
   "source": [
    "Let us fit a model with all the features available, plus the features we just created above."
   ]
  },
  {
   "cell_type": "code",
   "execution_count": 5,
   "metadata": {
    "collapsed": false
   },
   "outputs": [],
   "source": [
    "all_features = ['bedrooms', 'bedrooms_square',\n",
    "            'bathrooms',\n",
    "            'sqft_living', 'sqft_living_sqrt',\n",
    "            'sqft_lot', 'sqft_lot_sqrt',\n",
    "            'floors', 'floors_square',\n",
    "            'waterfront', 'view', 'condition', 'grade',\n",
    "            'sqft_above',\n",
    "            'sqft_basement',\n",
    "            'yr_built', 'yr_renovated']"
   ]
  },
  {
   "cell_type": "markdown",
   "metadata": {},
   "source": [
    "Applying L1 penalty requires adding an extra parameter (`l1_penalty`) to the linear regression call in GraphLab Create. (Other tools may have separate implementations of LASSO.)  Note that it's important to set `l2_penalty=0` to ensure we don't introduce an additional L2 penalty."
   ]
  },
  {
   "cell_type": "code",
   "execution_count": 6,
   "metadata": {
    "collapsed": false
   },
   "outputs": [
    {
     "name": "stdout",
     "output_type": "stream",
     "text": [
      "PROGRESS: Linear regression:\n",
      "PROGRESS: --------------------------------------------------------\n",
      "PROGRESS: Number of examples          : 21613\n",
      "PROGRESS: Number of features          : 17\n",
      "PROGRESS: Number of unpacked features : 17\n",
      "PROGRESS: Number of coefficients    : 18\n",
      "PROGRESS: Starting Accelerated Gradient (FISTA)\n",
      "PROGRESS: --------------------------------------------------------\n",
      "PROGRESS: +-----------+----------+-----------+--------------+--------------------+---------------+\n",
      "PROGRESS: | Iteration | Passes   | Step size | Elapsed Time | Training-max_error | Training-rmse |\n",
      "PROGRESS: +-----------+----------+-----------+--------------+--------------------+---------------+\n",
      "PROGRESS: Tuning step size. First iteration could take longer than subsequent iterations.\n",
      "PROGRESS: | 1         | 2        | 0.000002  | 2.704343     | 6962915.603493     | 426631.749026 |\n",
      "PROGRESS: | 2         | 3        | 0.000002  | 2.875050     | 6843144.200219     | 392488.929838 |\n",
      "PROGRESS: | 3         | 4        | 0.000002  | 3.000152     | 6831900.032123     | 385340.166783 |\n",
      "PROGRESS: | 4         | 5        | 0.000002  | 3.157055     | 6847166.848958     | 384842.383767 |\n",
      "PROGRESS: | 5         | 6        | 0.000002  | 3.265718     | 6869667.895833     | 385998.458623 |\n",
      "PROGRESS: | 6         | 7        | 0.000002  | 3.406410     | 6847177.773672     | 380824.455891 |\n",
      "PROGRESS: | 10        | 11       | 0.000002  | 4.094240     | 6842123.232651     | 364204.576180 |\n",
      "PROGRESS: +-----------+----------+-----------+--------------+--------------------+---------------+\n",
      "PROGRESS: TERMINATED: Iteration limit reached.\n",
      "PROGRESS: This model may not be optimal. To improve it, consider increasing `max_iterations`.\n"
     ]
    }
   ],
   "source": [
    "model_all = graphlab.linear_regression.create(sales, target='price', features=all_features,\n",
    "                                              validation_set=None, \n",
    "                                              l2_penalty=0., l1_penalty=1e10)"
   ]
  },
  {
   "cell_type": "markdown",
   "metadata": {},
   "source": [
    "Find what features had non-zero weight."
   ]
  },
  {
   "cell_type": "code",
   "execution_count": 7,
   "metadata": {
    "collapsed": false
   },
   "outputs": [
    {
     "name": "stdout",
     "output_type": "stream",
     "text": [
      "+------------------+-------+---------------+--------+\n",
      "|       name       | index |     value     | stderr |\n",
      "+------------------+-------+---------------+--------+\n",
      "|   (intercept)    |  None |  274873.05595 |  None  |\n",
      "|     bedrooms     |  None |      0.0      |  None  |\n",
      "| bedrooms_square  |  None |      0.0      |  None  |\n",
      "|    bathrooms     |  None | 8468.53108691 |  None  |\n",
      "|   sqft_living    |  None | 24.4207209824 |  None  |\n",
      "| sqft_living_sqrt |  None | 350.060553386 |  None  |\n",
      "|     sqft_lot     |  None |      0.0      |  None  |\n",
      "|  sqft_lot_sqrt   |  None |      0.0      |  None  |\n",
      "|      floors      |  None |      0.0      |  None  |\n",
      "|  floors_square   |  None |      0.0      |  None  |\n",
      "|    waterfront    |  None |      0.0      |  None  |\n",
      "|       view       |  None |      0.0      |  None  |\n",
      "|    condition     |  None |      0.0      |  None  |\n",
      "|      grade       |  None | 842.068034898 |  None  |\n",
      "|    sqft_above    |  None | 20.0247224171 |  None  |\n",
      "|  sqft_basement   |  None |      0.0      |  None  |\n",
      "|     yr_built     |  None |      0.0      |  None  |\n",
      "|   yr_renovated   |  None |      0.0      |  None  |\n",
      "+------------------+-------+---------------+--------+\n",
      "[18 rows x 4 columns]\n",
      "\n"
     ]
    }
   ],
   "source": [
    "model_all.get(\"coefficients\").print_rows(num_rows=100)"
   ]
  },
  {
   "cell_type": "markdown",
   "metadata": {},
   "source": [
    "Note that a majority of the weights have been set to zero. So by setting an L1 penalty that's large enough, we are performing a subset selection. \n",
    "\n",
    "***QUIZ QUESTION***:\n",
    "According to this list of weights, which of the features have been chosen? "
   ]
  },
  {
   "cell_type": "markdown",
   "metadata": {},
   "source": [
    "###Quiz solution\n",
    "Bathrooms, sqft_living, sqft_living_sqrt, grade, sqft_above "
   ]
  },
  {
   "cell_type": "markdown",
   "metadata": {},
   "source": [
    "# Selecting an L1 penalty"
   ]
  },
  {
   "cell_type": "markdown",
   "metadata": {},
   "source": [
    "To find a good L1 penalty, we will explore multiple values using a validation set. Let us do three way split into train, validation, and test sets:\n",
    "* Split our sales data into 2 sets: training and test\n",
    "* Further split our training data into two sets: train, validation\n",
    "\n",
    "Be *very* careful that you use seed = 1 to ensure you get the same answer!"
   ]
  },
  {
   "cell_type": "code",
   "execution_count": 9,
   "metadata": {
    "collapsed": true
   },
   "outputs": [],
   "source": [
    "(training_and_validation, testing) = sales.random_split(.9,seed=1) # initial train/test split\n",
    "(training, validation) = training_and_validation.random_split(0.5, seed=1) # split training into train and validate"
   ]
  },
  {
   "cell_type": "markdown",
   "metadata": {},
   "source": [
    "Next, we write a loop that does the following:\n",
    "* For `l1_penalty` in [10^1, 10^1.5, 10^2, 10^2.5, ..., 10^7] (to get this in Python, type `np.logspace(1, 7, num=13)`.)\n",
    "    * Fit a regression model with a given `l1_penalty` on TRAIN data. Specify `l1_penalty=l1_penalty` and `l2_penalty=0.` in the parameter list.\n",
    "    * Compute the RSS on VALIDATION data (here you will want to use `.predict()`) for that `l1_penalty`\n",
    "* Report which `l1_penalty` produced the lowest RSS on validation data.\n",
    "\n",
    "When you call `linear_regression.create()` make sure you set `validation_set = None`.\n",
    "\n",
    "Note: you can turn off the print out of `linear_regression.create()` with `verbose = False`"
   ]
  },
  {
   "cell_type": "code",
   "execution_count": 58,
   "metadata": {
    "collapsed": false
   },
   "outputs": [
    {
     "name": "stdout",
     "output_type": "stream",
     "text": [
      "Set of L1_penalty values : [  1.00000000e+01   3.16227766e+01   1.00000000e+02   3.16227766e+02\n",
      "   1.00000000e+03   3.16227766e+03   1.00000000e+04   3.16227766e+04\n",
      "   1.00000000e+05   3.16227766e+05   1.00000000e+06   3.16227766e+06\n",
      "   1.00000000e+07]\n",
      "Set of features : ['bedrooms', 'bedrooms_square', 'bathrooms', 'sqft_living', 'sqft_living_sqrt', 'sqft_lot', 'sqft_lot_sqrt', 'floors', 'floors_square', 'waterfront', 'view', 'condition', 'grade', 'sqft_above', 'sqft_basement', 'yr_built', 'yr_renovated']\n",
      "Computing for L1_penalty =  10.0\n",
      "First L1_penalty/RRS : 10.0 6.25766285142e+14\n",
      "Computing for L1_penalty =  31.6227766017\n",
      "No improvement at L1_penalty :  31.6227766017 6.25766285362e+14\n",
      "Computing for L1_penalty =  100.0\n",
      "No improvement at L1_penalty :  100.0 6.25766286058e+14\n",
      "Computing for L1_penalty =  316.227766017\n",
      "No improvement at L1_penalty :  316.227766017 6.25766288257e+14\n",
      "Computing for L1_penalty =  1000.0\n",
      "No improvement at L1_penalty :  1000.0 6.25766295212e+14\n",
      "Computing for L1_penalty =  3162.27766017\n",
      "No improvement at L1_penalty :  3162.27766017 6.25766317206e+14\n",
      "Computing for L1_penalty =  10000.0\n",
      "No improvement at L1_penalty :  10000.0 6.25766386761e+14\n",
      "Computing for L1_penalty =  31622.7766017\n",
      "No improvement at L1_penalty :  31622.7766017 6.25766606749e+14\n",
      "Computing for L1_penalty =  100000.0\n",
      "No improvement at L1_penalty :  100000.0 6.25767302792e+14\n",
      "Computing for L1_penalty =  316227.766017\n",
      "No improvement at L1_penalty :  316227.766017 6.25769507644e+14\n",
      "Computing for L1_penalty =  1000000.0\n",
      "No improvement at L1_penalty :  1000000.0 6.25776517727e+14\n",
      "Computing for L1_penalty =  3162277.66017\n",
      "No improvement at L1_penalty :  3162277.66017 6.25799062845e+14\n",
      "Computing for L1_penalty =  10000000.0\n",
      "No improvement at L1_penalty :  10000000.0 6.25883719085e+14\n",
      "Best L1_penalty :  10.0  RSS =  6.25766285142e+14\n"
     ]
    }
   ],
   "source": [
    "import numpy as np # note this allows us to refer to numpy as np instead \n",
    "\n",
    "print 'Set of L1_penalty values :',np.logspace(1,7, num=13)\n",
    "print 'Set of features :', all_features\n",
    "\n",
    "min_RSS = 0\n",
    "l1_pen_best = 0\n",
    "predictions = []\n",
    "sq_error = []\n",
    "for l1_pen in np.logspace(1,7,num=13):\n",
    "    # fit the model\n",
    "    print 'Computing for L1_penalty = ', l1_pen\n",
    "    model_temp = graphlab.linear_regression.create(training, target='price', features=all_features,\n",
    "                                              validation_set=None, \n",
    "                                              l2_penalty=0., l1_penalty=l1_pen,\n",
    "                                              verbose=False)\n",
    "    # compute RSS on the validation set\n",
    "    predictions = model_temp.predict(validation)\n",
    "    errors = graphlab.SFrame(predictions)\n",
    "    errors['error'] = errors['X1'] - validation['price']\n",
    "    errors['prediction'] = predictions\n",
    "    errors['data'] = validation['price']\n",
    "    errors['sq'] = errors['error'].apply(lambda x: x**2)\n",
    "    #print 'Errors: ', errors.head()\n",
    "    sq_error = errors['error'].apply(lambda x: x**2)\n",
    "    model_RSS = errors['sq'].sum()   #sq_error.sum()\n",
    "    if min_RSS == 0:\n",
    "        min_RSS = model_RSS\n",
    "        l1_pen_best = l1_pen\n",
    "        print 'First L1_penalty/RRS :',l1_pen, model_RSS\n",
    "    else:\n",
    "        if model_RSS < min_RSS:\n",
    "            min_RSS = model_RSS\n",
    "            l1_pen_best = l1_pen\n",
    "            print 'Better L1_penalty/RRS found :',l1_pen, model_RSS \n",
    "        else:\n",
    "            print 'No improvement at L1_penalty : ', l1_pen, model_RSS\n",
    "            \n",
    "print 'Best L1_penalty : ', l1_pen_best, ' RSS = ', min_RSS"
   ]
  },
  {
   "cell_type": "code",
   "execution_count": 46,
   "metadata": {
    "collapsed": false
   },
   "outputs": [
    {
     "name": "stdout",
     "output_type": "stream",
     "text": [
      "[0.5, 1.0]\n",
      "3\n",
      "5\n",
      "+----+\n",
      "| X1 |\n",
      "+----+\n",
      "| 1  |\n",
      "| 2  |\n",
      "+----+\n",
      "[2 rows x 1 columns]\n",
      "\n",
      "3\n",
      "Rows:  9761\n"
     ]
    },
    {
     "data": {
      "text/plain": [
       "dtype: float\n",
       "Rows: 9761\n",
       "[604000.0, 1225000.0, 468000.0, 310000.0, 400000.0, 650000.0, 485000.0, 385000.0, 285000.0, 252700.0, 329000.0, 233000.0, 937000.0, 438000.0, 322500.0, 605000.0, 861990.0, 309000.0, 488000.0, 210490.0, 785000.0, 1350000.0, 228000.0, 345000.0, 600000.0, 650000.0, 289000.0, 975000.0, 204000.0, 1325000.0, 1040000.0, 571000.0, 360000.0, 380000.0, 480000.0, 410000.0, 720000.0, 315000.0, 940000.0, 305000.0, 215000.0, 243500.0, 1099880.0, 430000.0, 700000.0, 199000.0, 314000.0, 437500.0, 850830.0, 290000.0, 460000.0, 680000.0, 272500.0, 518500.0, 171800.0, 391500.0, 1450000.0, 260000.0, 430000.0, 212000.0, 453246.0, 220000.0, 452000.0, 665000.0, 420000.0, 500000.0, 258000.0, 511000.0, 532170.0, 282950.0, 320000.0, 255000.0, 420000.0, 370000.0, 269950.0, 653000.0, 425000.0, 470000.0, 163500.0, 560000.0, 585188.0, 400000.0, 230000.0, 423000.0, 465000.0, 440000.0, 297000.0, 470000.0, 226500.0, 677900.0, 425000.0, 180250.0, 464000.0, 320000.0, 625504.0, 467000.0, 686000.0, 328000.0, 479950.0, 235000.0, ... ]"
      ]
     },
     "execution_count": 46,
     "metadata": {},
     "output_type": "execute_result"
    }
   ],
   "source": [
    "pred = [1,2]\n",
    "values = [0.5,1]\n",
    "sf = (graphlab.SFrame(pred)['X1']) - (graphlab.SFrame(values)['X1'])\n",
    "print sf\n",
    "#print pred.apply(lambda x: x**2)\n",
    "print sum(pred)\n",
    "sf = graphlab.SFrame(pred)\n",
    "print sf['X1'].apply(lambda x: x**2).sum()\n",
    "print sf\n",
    "print sf['X1'].sum()\n",
    "print 'Rows: ',len(training)\n",
    "#model_all.predict(training)\n",
    "training['price']"
   ]
  },
  {
   "cell_type": "markdown",
   "metadata": {},
   "source": [
    "*** QUIZ QUESTIONS ***\n",
    "1. What was the best value for the `l1_penalty`?\n",
    "2. What is the RSS on TEST data of the model with the best `l1_penalty`?"
   ]
  },
  {
   "cell_type": "markdown",
   "metadata": {
    "collapsed": false
   },
   "source": [
    "Best L1_penalty :  10  RSS =  6.258e+14"
   ]
  },
  {
   "cell_type": "markdown",
   "metadata": {},
   "source": [
    "***QUIZ QUESTION***\n",
    "Also, using this value of L1 penalty, how many nonzero weights do you have?"
   ]
  },
  {
   "cell_type": "code",
   "execution_count": 54,
   "metadata": {
    "collapsed": false
   },
   "outputs": [
    {
     "name": "stdout",
     "output_type": "stream",
     "text": [
      "+------------------+-------+------------------+--------+\n",
      "|       name       | index |      value       | stderr |\n",
      "+------------------+-------+------------------+--------+\n",
      "|   (intercept)    |  None |  18993.4272128   |  None  |\n",
      "|     bedrooms     |  None |  7936.96767903   |  None  |\n",
      "| bedrooms_square  |  None |  936.993368193   |  None  |\n",
      "|    bathrooms     |  None |  25409.5889341   |  None  |\n",
      "|   sqft_living    |  None |  39.1151363797   |  None  |\n",
      "| sqft_living_sqrt |  None |  1124.65021281   |  None  |\n",
      "|     sqft_lot     |  None | 0.00348361822299 |  None  |\n",
      "|  sqft_lot_sqrt   |  None |  148.258391011   |  None  |\n",
      "|      floors      |  None |   21204.335467   |  None  |\n",
      "|  floors_square   |  None |  12915.5243361   |  None  |\n",
      "|    waterfront    |  None |  601905.594545   |  None  |\n",
      "|       view       |  None |  93312.8573119   |  None  |\n",
      "|    condition     |  None |  6609.03571245   |  None  |\n",
      "|      grade       |  None |  6206.93999188   |  None  |\n",
      "|    sqft_above    |  None |  43.2870534193   |  None  |\n",
      "|  sqft_basement   |  None |  122.367827534   |  None  |\n",
      "|     yr_built     |  None |  9.43363539372   |  None  |\n",
      "|   yr_renovated   |  None |  56.0720034488   |  None  |\n",
      "+------------------+-------+------------------+--------+\n",
      "[18 rows x 4 columns]\n",
      "\n"
     ]
    }
   ],
   "source": [
    "model_best_l1 = graphlab.linear_regression.create(training, target='price', features=all_features,\n",
    "                                              validation_set=None, \n",
    "                                              l2_penalty=0., l1_penalty=10,\n",
    "                                              verbose=False)\n",
    "model_best_l1.get('coefficients').print_rows(num_rows=100)"
   ]
  },
  {
   "cell_type": "markdown",
   "metadata": {},
   "source": [
    "###Quiz question\n",
    "At best L1_penalty of 10,000,000, there are *no* no-zero weights - all features are included..."
   ]
  },
  {
   "cell_type": "markdown",
   "metadata": {},
   "source": [
    "# Limit the number of nonzero weights\n",
    "\n",
    "What if we absolutely wanted to limit ourselves to, say, 7 features? This may be important if we want to derive \"a rule of thumb\" --- an interpretable model that has only a few features in them."
   ]
  },
  {
   "cell_type": "markdown",
   "metadata": {},
   "source": [
    "In this section, you are going to implement a simple, two phase procedure to achive this goal:\n",
    "1. Explore a large range of `l1_penalty` values to find a narrow region of `l1_penalty` values where models are likely to have the desired number of non-zero weights.\n",
    "2. Further explore the narrow region you found to find a good value for `l1_penalty` that achieves the desired sparsity.  Here, we will again use a validation set to choose the best value for `l1_penalty`."
   ]
  },
  {
   "cell_type": "code",
   "execution_count": 59,
   "metadata": {
    "collapsed": true
   },
   "outputs": [],
   "source": [
    "max_nonzeros = 7"
   ]
  },
  {
   "cell_type": "markdown",
   "metadata": {},
   "source": [
    "## Exploring the larger range of values to find a narrow range with the desired sparsity\n",
    "\n",
    "Let's define a wide range of possible `l1_penalty_values`:"
   ]
  },
  {
   "cell_type": "code",
   "execution_count": 60,
   "metadata": {
    "collapsed": false
   },
   "outputs": [],
   "source": [
    "l1_penalty_values = np.logspace(8, 10, num=20)"
   ]
  },
  {
   "cell_type": "markdown",
   "metadata": {},
   "source": [
    "Now, implement a loop that search through this space of possible `l1_penalty` values:\n",
    "\n",
    "* For `l1_penalty` in `np.logspace(8, 10, num=20)`:\n",
    "    * Fit a regression model with a given `l1_penalty` on TRAIN data. Specify `l1_penalty=l1_penalty` and `l2_penalty=0.` in the parameter list. When you call `linear_regression.create()` make sure you set `validation_set = None`\n",
    "    * Extract the weights of the model and count the number of nonzeros. Save the number of nonzeros to a list.\n",
    "        * *Hint: `model['coefficients']['value']` gives you an SArray with the parameters you learned.  If you call the method `.nnz()` on it, you will find the number of non-zero parameters!* "
   ]
  },
  {
   "cell_type": "code",
   "execution_count": 61,
   "metadata": {
    "collapsed": false
   },
   "outputs": [
    {
     "name": "stdout",
     "output_type": "stream",
     "text": [
      "Set of L1_penalty values : [  1.00000000e+08   1.27427499e+08   1.62377674e+08   2.06913808e+08\n",
      "   2.63665090e+08   3.35981829e+08   4.28133240e+08   5.45559478e+08\n",
      "   6.95192796e+08   8.85866790e+08   1.12883789e+09   1.43844989e+09\n",
      "   1.83298071e+09   2.33572147e+09   2.97635144e+09   3.79269019e+09\n",
      "   4.83293024e+09   6.15848211e+09   7.84759970e+09   1.00000000e+10]\n",
      "Set of features : ['bedrooms', 'bedrooms_square', 'bathrooms', 'sqft_living', 'sqft_living_sqrt', 'sqft_lot', 'sqft_lot_sqrt', 'floors', 'floors_square', 'waterfront', 'view', 'condition', 'grade', 'sqft_above', 'sqft_basement', 'yr_built', 'yr_renovated']\n",
      "Computing for L1_penalty =  100000000.0\n",
      "l1_penalty =  100000000.0  number of coefficients =  18\n",
      "Computing for L1_penalty =  127427498.57\n",
      "l1_penalty =  127427498.57  number of coefficients =  18\n",
      "Computing for L1_penalty =  162377673.919\n",
      "l1_penalty =  162377673.919  number of coefficients =  18\n",
      "Computing for L1_penalty =  206913808.111\n",
      "l1_penalty =  206913808.111  number of coefficients =  18\n",
      "Computing for L1_penalty =  263665089.873\n",
      "l1_penalty =  263665089.873  number of coefficients =  17\n",
      "Computing for L1_penalty =  335981828.628\n",
      "l1_penalty =  335981828.628  number of coefficients =  17\n",
      "Computing for L1_penalty =  428133239.872\n",
      "l1_penalty =  428133239.872  number of coefficients =  17\n",
      "Computing for L1_penalty =  545559478.117\n",
      "l1_penalty =  545559478.117  number of coefficients =  17\n",
      "Computing for L1_penalty =  695192796.178\n",
      "l1_penalty =  695192796.178  number of coefficients =  17\n",
      "Computing for L1_penalty =  885866790.41\n",
      "l1_penalty =  885866790.41  number of coefficients =  16\n",
      "Computing for L1_penalty =  1128837891.68\n",
      "l1_penalty =  1128837891.68  number of coefficients =  15\n",
      "Computing for L1_penalty =  1438449888.29\n",
      "l1_penalty =  1438449888.29  number of coefficients =  15\n",
      "Computing for L1_penalty =  1832980710.83\n",
      "l1_penalty =  1832980710.83  number of coefficients =  13\n",
      "Computing for L1_penalty =  2335721469.09\n",
      "l1_penalty =  2335721469.09  number of coefficients =  12\n",
      "Computing for L1_penalty =  2976351441.63\n",
      "l1_penalty =  2976351441.63  number of coefficients =  10\n",
      "Computing for L1_penalty =  3792690190.73\n",
      "l1_penalty =  3792690190.73  number of coefficients =  6\n",
      "Computing for L1_penalty =  4832930238.57\n",
      "l1_penalty =  4832930238.57  number of coefficients =  5\n",
      "Computing for L1_penalty =  6158482110.66\n",
      "l1_penalty =  6158482110.66  number of coefficients =  3\n",
      "Computing for L1_penalty =  7847599703.51\n",
      "l1_penalty =  7847599703.51  number of coefficients =  1\n",
      "Computing for L1_penalty =  10000000000.0\n",
      "l1_penalty =  10000000000.0  number of coefficients =  1\n"
     ]
    }
   ],
   "source": [
    "print 'Set of L1_penalty values :', l1_penalty_values\n",
    "print 'Set of features :', all_features\n",
    "\n",
    "#min_RSS = 0\n",
    "#l1_pen_best = 0\n",
    "#predictions = []\n",
    "#sq_error = []\n",
    "for l1_pen in l1_penalty_values:\n",
    "    # fit the model\n",
    "    print 'Computing for L1_penalty = ', l1_pen\n",
    "    model_temp = graphlab.linear_regression.create(training, target='price', features=all_features,\n",
    "                                              validation_set=None, \n",
    "                                              l2_penalty=0., l1_penalty=l1_pen,\n",
    "                                              verbose=False)\n",
    "    n_non_zero = model_temp['coefficients']['value'].nnz()\n",
    "    print 'l1_penalty = ', l1_pen, ' number of coefficients = ', n_non_zero\n",
    "    # compute RSS on the validation set\n",
    "    #predictions = model_temp.predict(validation)\n",
    "    #sq_error = graphlab.SFrame(predictions)['X1'].apply(lambda x: x**2)\n",
    "    #model_RSS = sq_error.sum()\n",
    "    #if min_RSS == 0:\n",
    "    #    min_RSS = model_RSS\n",
    "    #    l1_pen_best = l1_pen\n",
    "    #    print 'First L1_penalty/RRS :',l1_pen, model_RSS\n",
    "    #else:\n",
    "    #    if model_RSS < min_RSS:\n",
    "    #        min_RSS = model_RSS\n",
    "    #        l1_pen_best = l1_pen\n",
    "    #        print 'Better L1_penalty/RRS found :',l1_pen, model_RSS \n",
    "    #    else:\n",
    "    #        print 'No improvement at L1_penalty : ', l1_pen, model_RSS\n",
    "            \n",
    "#print 'Best L1_penalty : ', l1_pen_best, ' RSS = ', min_RSS"
   ]
  },
  {
   "cell_type": "markdown",
   "metadata": {},
   "source": [
    "Out of this large range, we want to find the two ends of our desired narrow range of `l1_penalty`.  At one end, we will have `l1_penalty` values that have too few non-zeros, and at the other end, we will have an `l1_penalty` that has too many non-zeros.  \n",
    "\n",
    "More formally, find:\n",
    "* The largest `l1_penalty` that has more non-zeros than `max_nonzero` (if we pick a penalty smaller than this value, we will definitely have too many non-zero weights)\n",
    "    * Store this value in the variable `l1_penalty_min` (we will use it later)\n",
    "* The smallest `l1_penalty` that has fewer non-zeros than `max_nonzero` (if we pick a penalty larger than this value, we will definitely have too few non-zero weights)\n",
    "    * Store this value in the variable `l1_penalty_max` (we will use it later)\n",
    "\n",
    "\n",
    "*Hint: there are many ways to do this, e.g.:*\n",
    "* Programmatically within the loop above\n",
    "* Creating a list with the number of non-zeros for each value of `l1_penalty` and inspecting it to find the appropriate boundaries."
   ]
  },
  {
   "cell_type": "code",
   "execution_count": 62,
   "metadata": {
    "collapsed": false
   },
   "outputs": [
    {
     "name": "stdout",
     "output_type": "stream",
     "text": [
      "Set of L1_penalty values : [  1.00000000e+08   1.27427499e+08   1.62377674e+08   2.06913808e+08\n",
      "   2.63665090e+08   3.35981829e+08   4.28133240e+08   5.45559478e+08\n",
      "   6.95192796e+08   8.85866790e+08   1.12883789e+09   1.43844989e+09\n",
      "   1.83298071e+09   2.33572147e+09   2.97635144e+09   3.79269019e+09\n",
      "   4.83293024e+09   6.15848211e+09   7.84759970e+09   1.00000000e+10]\n",
      "Looking for maximum non-zeros : 7\n",
      "Computing for L1_penalty =  100000000.0\n",
      "l1_penalty =  100000000.0  number of coefficients =  18\n",
      "Greater than max zeros at l1_penalty =  100000000.0\n",
      "Computing for L1_penalty =  127427498.57\n",
      "l1_penalty =  127427498.57  number of coefficients =  18\n",
      "Greater than max zeros at l1_penalty =  127427498.57\n",
      "Computing for L1_penalty =  162377673.919\n",
      "l1_penalty =  162377673.919  number of coefficients =  18\n",
      "Greater than max zeros at l1_penalty =  162377673.919\n",
      "Computing for L1_penalty =  206913808.111\n",
      "l1_penalty =  206913808.111  number of coefficients =  18\n",
      "Greater than max zeros at l1_penalty =  206913808.111\n",
      "Computing for L1_penalty =  263665089.873\n",
      "l1_penalty =  263665089.873  number of coefficients =  17\n",
      "Greater than max zeros at l1_penalty =  263665089.873\n",
      "Computing for L1_penalty =  335981828.628\n",
      "l1_penalty =  335981828.628  number of coefficients =  17\n",
      "Greater than max zeros at l1_penalty =  335981828.628\n",
      "Computing for L1_penalty =  428133239.872\n",
      "l1_penalty =  428133239.872  number of coefficients =  17\n",
      "Greater than max zeros at l1_penalty =  428133239.872\n",
      "Computing for L1_penalty =  545559478.117\n",
      "l1_penalty =  545559478.117  number of coefficients =  17\n",
      "Greater than max zeros at l1_penalty =  545559478.117\n",
      "Computing for L1_penalty =  695192796.178\n",
      "l1_penalty =  695192796.178  number of coefficients =  17\n",
      "Greater than max zeros at l1_penalty =  695192796.178\n",
      "Computing for L1_penalty =  885866790.41\n",
      "l1_penalty =  885866790.41  number of coefficients =  16\n",
      "Greater than max zeros at l1_penalty =  885866790.41\n",
      "Computing for L1_penalty =  1128837891.68\n",
      "l1_penalty =  1128837891.68  number of coefficients =  15\n",
      "Greater than max zeros at l1_penalty =  1128837891.68\n",
      "Computing for L1_penalty =  1438449888.29\n",
      "l1_penalty =  1438449888.29  number of coefficients =  15\n",
      "Greater than max zeros at l1_penalty =  1438449888.29\n",
      "Computing for L1_penalty =  1832980710.83\n",
      "l1_penalty =  1832980710.83  number of coefficients =  13\n",
      "Greater than max zeros at l1_penalty =  1832980710.83\n",
      "Computing for L1_penalty =  2335721469.09\n",
      "l1_penalty =  2335721469.09  number of coefficients =  12\n",
      "Greater than max zeros at l1_penalty =  2335721469.09\n",
      "Computing for L1_penalty =  2976351441.63\n",
      "l1_penalty =  2976351441.63  number of coefficients =  10\n",
      "Greater than max zeros at l1_penalty =  2976351441.63\n",
      "Computing for L1_penalty =  3792690190.73\n",
      "l1_penalty =  3792690190.73  number of coefficients =  6\n",
      "Found max zeros at l1_penalty =  3792690190.73\n",
      "Computing for L1_penalty =  4832930238.57\n",
      "l1_penalty =  4832930238.57  number of coefficients =  5\n",
      "Computing for L1_penalty =  6158482110.66\n",
      "l1_penalty =  6158482110.66  number of coefficients =  3\n",
      "Computing for L1_penalty =  7847599703.51\n",
      "l1_penalty =  7847599703.51  number of coefficients =  1\n",
      "Computing for L1_penalty =  10000000000.0\n",
      "l1_penalty =  10000000000.0  number of coefficients =  1\n",
      "Solution minimum= 2976351441.63  maximum= 3792690190.73\n"
     ]
    }
   ],
   "source": [
    "print 'Set of L1_penalty values :', l1_penalty_values\n",
    "#print 'Set of features :', all_features\n",
    "print 'Looking for maximum non-zeros :',max_nonzeros\n",
    "\n",
    "# l1_pen is always increasing...\n",
    "f_found = False\n",
    "\n",
    "for l1_pen in l1_penalty_values:\n",
    "    # fit the model\n",
    "    print 'Computing for L1_penalty = ', l1_pen\n",
    "    model_temp = graphlab.linear_regression.create(training, target='price', features=all_features,\n",
    "                                              validation_set=None, \n",
    "                                              l2_penalty=0., l1_penalty=l1_pen,\n",
    "                                              verbose=False)\n",
    "    n_non_zero = model_temp['coefficients']['value'].nnz()\n",
    "    print 'l1_penalty = ', l1_pen, ' number of coefficients = ', n_non_zero\n",
    "    if n_non_zero > max_nonzeros:\n",
    "        l1_penalty_min = l1_pen     #keep over-writing until condition is no longer true\n",
    "        print 'Greater than max zeros at l1_penalty = ', l1_pen\n",
    "    else:\n",
    "        if f_found==False:\n",
    "            l1_penalty_max = l1_pen #first time this happens\n",
    "            f_found = True\n",
    "            print 'Found max zeros at l1_penalty = ', l1_pen\n",
    "            \n",
    "print 'Solution minimum=', l1_penalty_min, ' maximum=',l1_penalty_max\n",
    "#l1_penalty_min = \n",
    "#l1_penalty_max = "
   ]
  },
  {
   "cell_type": "markdown",
   "metadata": {},
   "source": [
    "***QUIZ QUESTIONS***\n",
    "\n",
    "What values did you find for `l1_penalty_min` and`l1_penalty_max`? "
   ]
  },
  {
   "cell_type": "markdown",
   "metadata": {},
   "source": [
    "### Solution:\n",
    "Solution minimum= 2976351441.63  maximum= 3792690190.73\n",
    "\n",
    "This means that 2976351441 is the minimum value at which the solution will have more zeros (l1_penalty_min)\n",
    "\n",
    "But 3792690190 is the smallest test penalty that has fewer zeros (l1_penalty_max)"
   ]
  },
  {
   "cell_type": "markdown",
   "metadata": {},
   "source": [
    "## Exploring the narrow range of values to find the solution with the right number of non-zeros that has lowest RSS on the validation set \n",
    "\n",
    "We will now explore the narrow region of `l1_penalty` values we found:"
   ]
  },
  {
   "cell_type": "code",
   "execution_count": 63,
   "metadata": {
    "collapsed": true
   },
   "outputs": [],
   "source": [
    "l1_penalty_values = np.linspace(l1_penalty_min,l1_penalty_max,20)"
   ]
  },
  {
   "cell_type": "markdown",
   "metadata": {},
   "source": [
    "* For `l1_penalty` in `np.linspace(l1_penalty_min,l1_penalty_max,20)`:\n",
    "    * Fit a regression model with a given `l1_penalty` on TRAIN data. Specify `l1_penalty=l1_penalty` and `l2_penalty=0.` in the parameter list. When you call `linear_regression.create()` make sure you set `validation_set = None`\n",
    "    * Measure the RSS of the learned model on the VALIDATION set\n",
    "\n",
    "Find the model that the lowest RSS on the VALIDATION set and has sparsity *equal* to `max_nonzero`."
   ]
  },
  {
   "cell_type": "code",
   "execution_count": 64,
   "metadata": {
    "collapsed": false
   },
   "outputs": [
    {
     "name": "stdout",
     "output_type": "stream",
     "text": [
      "Set of L1_penalty values : [  2.97635144e+09   3.01931664e+09   3.06228184e+09   3.10524703e+09\n",
      "   3.14821223e+09   3.19117743e+09   3.23414263e+09   3.27710782e+09\n",
      "   3.32007302e+09   3.36303822e+09   3.40600341e+09   3.44896861e+09\n",
      "   3.49193381e+09   3.53489901e+09   3.57786420e+09   3.62082940e+09\n",
      "   3.66379460e+09   3.70675980e+09   3.74972499e+09   3.79269019e+09]\n",
      "Computing for L1_penalty =  2976351441.63\n",
      "l1_penalty:  2976351441.63 , non-zeros : 10 , RSS =  9.66925692362e+14\n",
      "Computing for L1_penalty =  3019316638.95\n",
      "l1_penalty:  3019316638.95 , non-zeros : 10 , RSS =  9.74019450085e+14\n",
      "Computing for L1_penalty =  3062281836.27\n",
      "l1_penalty:  3062281836.27 , non-zeros : 10 , RSS =  9.81188367942e+14\n",
      "Computing for L1_penalty =  3105247033.59\n",
      "l1_penalty:  3105247033.59 , non-zeros : 10 , RSS =  9.89328342459e+14\n",
      "Computing for L1_penalty =  3148212230.92\n",
      "l1_penalty:  3148212230.92 , non-zeros : 10 , RSS =  9.98783211266e+14\n",
      "Computing for L1_penalty =  3191177428.24\n",
      "l1_penalty:  3191177428.24 , non-zeros : 10 , RSS =  1.00847716702e+15\n",
      "Computing for L1_penalty =  3234142625.56\n",
      "l1_penalty:  3234142625.56 , non-zeros : 10 , RSS =  1.01829878055e+15\n",
      "Computing for L1_penalty =  3277107822.88\n",
      "l1_penalty:  3277107822.88 , non-zeros : 10 , RSS =  1.02824799221e+15\n",
      "Computing for L1_penalty =  3320073020.2\n",
      "l1_penalty:  3320073020.2 , non-zeros : 8 , RSS =  1.03461690923e+15\n",
      "Computing for L1_penalty =  3363038217.52\n",
      "l1_penalty:  3363038217.52 , non-zeros : 8 , RSS =  1.03855473594e+15\n",
      "Computing for L1_penalty =  3406003414.84\n",
      "l1_penalty:  3406003414.84 , non-zeros : 8 , RSS =  1.04323723787e+15\n",
      "Computing for L1_penalty =  3448968612.16\n",
      "l1_penalty:  3448968612.16 , non-zeros : 7 , RSS =  1.04693748875e+15\n",
      "First L1_penalty/RRS : 3448968612.16 1.04693748875e+15\n",
      "Computing for L1_penalty =  3491933809.48\n",
      "l1_penalty:  3491933809.48 , non-zeros : 7 , RSS =  1.05114762561e+15\n",
      "No improvement at L1_penalty :  3491933809.48 1.05114762561e+15\n",
      "Computing for L1_penalty =  3534899006.81\n",
      "l1_penalty:  3534899006.81 , non-zeros : 7 , RSS =  1.05599273534e+15\n",
      "No improvement at L1_penalty :  3534899006.81 1.05599273534e+15\n",
      "Computing for L1_penalty =  3577864204.13\n",
      "l1_penalty:  3577864204.13 , non-zeros : 7 , RSS =  1.06079953176e+15\n",
      "No improvement at L1_penalty :  3577864204.13 1.06079953176e+15\n",
      "Computing for L1_penalty =  3620829401.45\n",
      "l1_penalty:  3620829401.45 , non-zeros : 6 , RSS =  1.0657076895e+15\n",
      "Computing for L1_penalty =  3663794598.77\n",
      "l1_penalty:  3663794598.77 , non-zeros : 6 , RSS =  1.06946433543e+15\n",
      "Computing for L1_penalty =  3706759796.09\n",
      "l1_penalty:  3706759796.09 , non-zeros : 6 , RSS =  1.07350454959e+15\n",
      "Computing for L1_penalty =  3749724993.41\n",
      "l1_penalty:  3749724993.41 , non-zeros : 6 , RSS =  1.07763277558e+15\n",
      "Computing for L1_penalty =  3792690190.73\n",
      "l1_penalty:  3792690190.73 , non-zeros : 6 , RSS =  1.08186759232e+15\n",
      "Best L1_penalty :  3448968612.16  RSS =  1.04693748875e+15\n"
     ]
    }
   ],
   "source": [
    "print 'Set of L1_penalty values :',l1_penalty_values\n",
    "#print 'Set of features :', all_features\n",
    "\n",
    "min_RSS = 0\n",
    "l1_pen_best = 0\n",
    "predictions = []\n",
    "sq_error = []\n",
    "for l1_pen in l1_penalty_values:\n",
    "    # fit the model\n",
    "    print 'Computing for L1_penalty = ', l1_pen\n",
    "    model_temp = graphlab.linear_regression.create(training, target='price', features=all_features,\n",
    "                                              validation_set=None, \n",
    "                                              l2_penalty=0., l1_penalty=l1_pen,\n",
    "                                              verbose=False)\n",
    "    n_non_zero = model_temp['coefficients']['value'].nnz()\n",
    "    # compute RSS on the validation set\n",
    "    #predictions = model_temp.predict(validation)\n",
    "    #sq_error = graphlab.SFrame(predictions)['X1'].apply(lambda x: x**2)\n",
    "    #model_RSS = sq_error.sum()\n",
    "    predictions = model_temp.predict(validation)\n",
    "    errors = graphlab.SFrame(predictions)\n",
    "    errors['error'] = errors['X1'] - validation['price']\n",
    "    errors['prediction'] = predictions\n",
    "    errors['data'] = validation['price']\n",
    "    errors['sq'] = errors['error'].apply(lambda x: x**2)\n",
    "    #print 'Errors: ', errors.head()\n",
    "    sq_error = errors['error'].apply(lambda x: x**2)\n",
    "    model_RSS = errors['sq'].sum()   #sq_error.sum()\n",
    "    print 'l1_penalty: ', l1_pen, ', non-zeros :', n_non_zero, ', RSS = ', model_RSS\n",
    "    if n_non_zero == max_nonzeros:\n",
    "        if min_RSS == 0:\n",
    "            min_RSS = model_RSS\n",
    "            l1_pen_best = l1_pen\n",
    "            print 'First L1_penalty/RRS :',l1_pen, model_RSS\n",
    "        else:\n",
    "            if model_RSS < min_RSS:\n",
    "                min_RSS = model_RSS\n",
    "                l1_pen_best = l1_pen\n",
    "                print 'Better L1_penalty/RRS found :',l1_pen, model_RSS \n",
    "            else:\n",
    "                print 'No improvement at L1_penalty : ', l1_pen, model_RSS\n",
    "            \n",
    "print 'Best L1_penalty : ', l1_pen_best, ' RSS = ', min_RSS"
   ]
  },
  {
   "cell_type": "markdown",
   "metadata": {},
   "source": [
    "***QUIZ QUESTIONS***\n",
    "1. What value of `l1_penalty` in our narrow range has the lowest RSS on the VALIDATION set and has sparsity *equal* to `max_nonzeros`?\n",
    "2. What features in this model have non-zero coefficients?"
   ]
  },
  {
   "cell_type": "markdown",
   "metadata": {},
   "source": [
    "### Question 1:\n",
    "Best L1_penalty :  3448968612.16  RSS =  1.04693748875e+15\n"
   ]
  },
  {
   "cell_type": "code",
   "execution_count": 65,
   "metadata": {
    "collapsed": false
   },
   "outputs": [
    {
     "name": "stdout",
     "output_type": "stream",
     "text": [
      "+------------------+-------+---------------+--------+\n",
      "|       name       | index |     value     | stderr |\n",
      "+------------------+-------+---------------+--------+\n",
      "|   (intercept)    |  None | 222253.192544 |  None  |\n",
      "|     bedrooms     |  None | 661.722717782 |  None  |\n",
      "| bedrooms_square  |  None |      0.0      |  None  |\n",
      "|    bathrooms     |  None | 15873.9572593 |  None  |\n",
      "|   sqft_living    |  None | 32.4102214513 |  None  |\n",
      "| sqft_living_sqrt |  None | 690.114773313 |  None  |\n",
      "|     sqft_lot     |  None |      0.0      |  None  |\n",
      "|  sqft_lot_sqrt   |  None |      0.0      |  None  |\n",
      "|      floors      |  None |      0.0      |  None  |\n",
      "|  floors_square   |  None |      0.0      |  None  |\n",
      "|    waterfront    |  None |      0.0      |  None  |\n",
      "|       view       |  None |      0.0      |  None  |\n",
      "|    condition     |  None |      0.0      |  None  |\n",
      "|      grade       |  None | 2899.42026975 |  None  |\n",
      "|    sqft_above    |  None | 30.0115753022 |  None  |\n",
      "|  sqft_basement   |  None |      0.0      |  None  |\n",
      "|     yr_built     |  None |      0.0      |  None  |\n",
      "|   yr_renovated   |  None |      0.0      |  None  |\n",
      "+------------------+-------+---------------+--------+\n",
      "[18 rows x 4 columns]\n",
      "\n"
     ]
    }
   ],
   "source": [
    "model_temp = graphlab.linear_regression.create(training, target='price', features=all_features,\n",
    "                                              validation_set=None, \n",
    "                                              l2_penalty=0., l1_penalty=3448968612.16  ,\n",
    "                                              verbose=False)\n",
    "model_temp.get('coefficients').print_rows(num_rows=100)"
   ]
  },
  {
   "cell_type": "markdown",
   "metadata": {},
   "source": [
    "### Question 2:\n",
    "Features:\n",
    "\n",
    "bedrooms, bathrooms, sqft_living, sqft_living_sqrt, grade, sqft_above"
   ]
  },
  {
   "cell_type": "code",
   "execution_count": null,
   "metadata": {
    "collapsed": true
   },
   "outputs": [],
   "source": []
  }
 ],
 "metadata": {
  "kernelspec": {
   "display_name": "Python 2",
   "language": "python",
   "name": "python2"
  },
  "language_info": {
   "codemirror_mode": {
    "name": "ipython",
    "version": 2
   },
   "file_extension": ".py",
   "mimetype": "text/x-python",
   "name": "python",
   "nbconvert_exporter": "python",
   "pygments_lexer": "ipython2",
   "version": "2.7.10"
  }
 },
 "nbformat": 4,
 "nbformat_minor": 0
}
